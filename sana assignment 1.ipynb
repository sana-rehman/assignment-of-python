{
 "cells": [
  {
   "cell_type": "code",
   "execution_count": 1,
   "metadata": {},
   "outputs": [
    {
     "name": "stdout",
     "output_type": "stream",
     "text": [
      "Twinkle, twinkle, little star,\n",
      "      How I wonder what you are!\n",
      "            Up above the world so high,\n",
      "            like a diamond in the sky.\n",
      "Twinkle, twinkle, little star,\n",
      "      How I wonder what you are!\n"
     ]
    }
   ],
   "source": [
    "print(\"Twinkle,\"+\" \"+\"twinkle,\"+\" \"+\"little\"+\" \"+\"star,\")\n",
    "print(\" \"+\" \"+\" \"+\" \"+\" \"+\" \"+\"How\"+\" \"+\"I\"+\" \"+\"wonder\"+\" \"+\"what\"+\" \"+\"you\"+\" \"+\"are!\")\n",
    "print(\" \"+\" \"+\" \"+\" \"+\" \"+\" \"+\" \"+\" \"+\" \"+\" \"+\" \"+\" \"+\"Up\"+\" \"+\"above\"+\" \"+\"the\"+\" \"+\"world\"+\" \"+\"so\"+\" \"+\"high,\")\n",
    "print(\" \"+\" \"+\" \"+\" \"+\" \"+\" \"+\" \"+\" \"+\" \"+\" \"+\" \"+\" \"+\"like\"+\" \"+\"a\"+\" \"+\"diamond\"+\" \"+\"in\"+\" \"+\"the\"+\" \"+\"sky.\")\n",
    "print(\"Twinkle,\"+\" \"+\"twinkle,\"+\" \"+\"little\"+\" \"+\"star,\")\n",
    "print(\" \"+\" \"+\" \"+\" \"+\" \"+\" \"+\"How\"+\" \"+\"I\"+\" \"+\"wonder\"+\" \"+\"what\"+\" \"+\"you\"+\" \"+\"are!\")"
   ]
  },
  {
   "cell_type": "code",
   "execution_count": 2,
   "metadata": {},
   "outputs": [
    {
     "name": "stdout",
     "output_type": "stream",
     "text": [
      "PYTHON VERSION\n",
      "3.7.4 (default, Aug  9 2019, 18:34:13) [MSC v.1915 64 bit (AMD64)]\n",
      "Version info.\n",
      "sys.version_info(major=3, minor=7, micro=4, releaselevel='final', serial=0)\n"
     ]
    }
   ],
   "source": [
    "import sys\n",
    "print(\"PYTHON VERSION\")\n",
    "print (sys.version)\n",
    "print(\"Version info.\")\n",
    "print (sys.version_info)"
   ]
  },
  {
   "cell_type": "code",
   "execution_count": 3,
   "metadata": {},
   "outputs": [
    {
     "name": "stdout",
     "output_type": "stream",
     "text": [
      "now = 2019-11-04 21:56:06.107540\n",
      "Date And Time = 04/11/2019 21:56:06\n"
     ]
    }
   ],
   "source": [
    "from datetime import datetime\n",
    "now = datetime.now()\n",
    "print(\"now =\", now)\n",
    "dt_string = now.strftime(\"%d/%m/%Y %H:%M:%S\")\n",
    "print(\"Date And Time =\", dt_string)\t"
   ]
  },
  {
   "cell_type": "code",
   "execution_count": 4,
   "metadata": {},
   "outputs": [
    {
     "name": "stdout",
     "output_type": "stream",
     "text": [
      "rehman sana\n"
     ]
    }
   ],
   "source": [
    "first_name = \"sana\"\n",
    "last_name  = \"rehman\"\n",
    "full_name  = last_name+\" \"+first_name\n",
    "print(full_name)"
   ]
  },
  {
   "cell_type": "code",
   "execution_count": 5,
   "metadata": {},
   "outputs": [
    {
     "name": "stdout",
     "output_type": "stream",
     "text": [
      "enter your value2\n",
      "enter your value2\n",
      "4\n"
     ]
    }
   ],
   "source": [
    "a = int(input(\"enter your value\"))\n",
    "b = int(input(\"enter your value\"))\n",
    "z = a + b\n",
    "print(z)"
   ]
  },
  {
   "cell_type": "code",
   "execution_count": 6,
   "metadata": {},
   "outputs": [
    {
     "name": "stdout",
     "output_type": "stream",
     "text": [
      "Input the radius of the circle : 1.0\n",
      "The area of the circle with radius 1.0 is: 3.141592653589793\n"
     ]
    }
   ],
   "source": [
    "from math import pi\n",
    "r = float(input (\"Input the radius of the circle : \"))\n",
    "print (\"The area of the circle with radius \" + str(r) + \" is: \" + str(pi * r**2))"
   ]
  },
  {
   "cell_type": "code",
   "execution_count": null,
   "metadata": {},
   "outputs": [],
   "source": []
  }
 ],
 "metadata": {
  "kernelspec": {
   "display_name": "Python 3",
   "language": "python",
   "name": "python3"
  },
  "language_info": {
   "codemirror_mode": {
    "name": "ipython",
    "version": 3
   },
   "file_extension": ".py",
   "mimetype": "text/x-python",
   "name": "python",
   "nbconvert_exporter": "python",
   "pygments_lexer": "ipython3",
   "version": "3.7.4"
  }
 },
 "nbformat": 4,
 "nbformat_minor": 2
}
